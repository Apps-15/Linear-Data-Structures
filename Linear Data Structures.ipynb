{
 "cells": [
  {
   "cell_type": "code",
   "execution_count": 9,
   "metadata": {},
   "outputs": [
    {
     "name": "stdout",
     "output_type": "stream",
     "text": [
      "[(7, 3), (9, 1)]\n"
     ]
    }
   ],
   "source": [
    "def find_pairs_with_sum(arr, target_sum):\n",
    "    pairs = []\n",
    "    seen_numbers = set()\n",
    "\n",
    "    for num in arr:\n",
    "        complement = target_sum- num\n",
    "        if complement in seen_numbers:\n",
    "            pairs.append((num, complement))\n",
    "        seen_numbers.add(num)\n",
    "    return pairs\n",
    "input_array = [2,4,3,7,1,5,9]\n",
    "target = 10\n",
    "result = find_pairs_with_sum(input_array, target)\n",
    "print(result)"
   ]
  },
  {
   "cell_type": "code",
   "execution_count": 10,
   "metadata": {},
   "outputs": [
    {
     "name": "stdout",
     "output_type": "stream",
     "text": [
      "[5, 4, 3, 2, 1]\n"
     ]
    }
   ],
   "source": [
    "def reverse_array_in_place(arr):\n",
    "    left = 0\n",
    "    right = len(arr)-1\n",
    "\n",
    "    while left<right:\n",
    "        arr[left], arr[right] = arr[right], arr[left]\n",
    "        left +=1\n",
    "        right -=1\n",
    "input_array = [1,2,3,4,5]\n",
    "reverse_array_in_place(input_array)\n",
    "print(input_array)"
   ]
  },
  {
   "cell_type": "code",
   "execution_count": 11,
   "metadata": {},
   "outputs": [
    {
     "name": "stdout",
     "output_type": "stream",
     "text": [
      "Strings are not rotations of each other.\n"
     ]
    }
   ],
   "source": [
    "def are_rotations(str1, str2):\n",
    "    if len(str1) != len(str2):\n",
    "        return False\n",
    "    \n",
    "    stack = []\n",
    "    index_str1 = 0\n",
    "    index_str2 = 0\n",
    "\n",
    "    while index_str1 < len(str1):\n",
    "        stack.append(str1[index_str1])\n",
    "        index_str1 +=1\n",
    "\n",
    "        if stack[-1] == str2[index_str2]:\n",
    "            index_str2 +=1\n",
    "            stack.pop()\n",
    "    if index_str2 == len(str2) and not stack:\n",
    "        return True\n",
    "    return False\n",
    "\n",
    "string1 = \"abcdef\" \n",
    "string2 = \"defabc\"\n",
    "result = are_rotations(string1, string2) \n",
    "if result:\n",
    "    print(\"Strings are rotations of each other.\") \n",
    "else:\n",
    "    print(\"Strings are not rotations of each other.\")     \n"
   ]
  },
  {
   "cell_type": "code",
   "execution_count": 12,
   "metadata": {},
   "outputs": [
    {
     "name": "stdout",
     "output_type": "stream",
     "text": [
      "No non-repeated character found.\n"
     ]
    }
   ],
   "source": [
    "def first_non_repeated_char(s):\n",
    "    char_count = {}\n",
    "    char_order = []\n",
    "\n",
    "    for char in s:\n",
    "        if char in char_count:\n",
    "            char_count[char] += 1\n",
    "        else:\n",
    "            char_count[char] = 1\n",
    "            char_order.append(char)\n",
    "    return None # If no non-repeated character is found\n",
    "input_string = \"aabccdeff\"\n",
    "result = first_non_repeated_char(input_string)\n",
    "if result:\n",
    "    print(\"First non-repeated character:\", result)\n",
    "else:\n",
    "    print(\"No non-repeated character found.\")     "
   ]
  },
  {
   "cell_type": "code",
   "execution_count": 13,
   "metadata": {},
   "outputs": [
    {
     "name": "stdout",
     "output_type": "stream",
     "text": [
      "Move disk 1 from rod A to rod C\n",
      "Move disk 2 from rod A to rod B\n",
      "Move disk 1 from rod C to rod B\n",
      "Move disk 3 from rod A to rod C\n",
      "Move disk 1 from rod B to rod A\n",
      "Move disk 2 from rod B to rod C\n",
      "Move disk 1 from rod A to rod C\n"
     ]
    }
   ],
   "source": [
    "def TowerOfHanoi(n, from_rod, to_rod, aux_rod):\n",
    "    if n ==0:\n",
    "        return\n",
    "    TowerOfHanoi(n-1, from_rod, aux_rod, to_rod)\n",
    "    print(\"Move disk\", n, \"from rod\", from_rod, \"to rod\", to_rod)\n",
    "    TowerOfHanoi(n-1, aux_rod, to_rod, from_rod)\n",
    "\n",
    "N = 3\n",
    "TowerOfHanoi(N, 'A', 'C', 'B')"
   ]
  },
  {
   "cell_type": "code",
   "execution_count": 1,
   "metadata": {},
   "outputs": [],
   "source": [
    "def isOperator(x):\n",
    "      if x == \"+\":\n",
    "            return True\n",
    "      if x == \"-\":\n",
    "            return True\n",
    "      if x == \"/\":\n",
    "            return True\n",
    "      if x == \"*\":\n",
    "            return True\n",
    "      return False\n",
    "def postToPre (post_exp):\n",
    "    s = []\n",
    "    length = len(post_exp)\n",
    "    for i in range(length):\n",
    "            if (isOperator(post_exp[i])):\n",
    "                op1 = s[-1]\n",
    "                s.pop()\n",
    "                op2 = s[-1]\n",
    "                s.pop()\n",
    "                temp = post_exp[i]+op2+op1\n",
    "                s.append(temp)\n",
    "            else:\n",
    "                 s.append(post_exp[i])\n",
    "    ans = \"\"\n",
    "    for i in s:\n",
    "        ans += i\n",
    "    return ans\n",
    "    post_exp = \"AB+CD-\"\n",
    "    print(\"Prefix:\", postToPre(post_exp))"
   ]
  },
  {
   "cell_type": "code",
   "execution_count": 2,
   "metadata": {},
   "outputs": [
    {
     "name": "stdout",
     "output_type": "stream",
     "text": [
      "Prefix Expression: *+AB-CD\n",
      "Infix Expression: ((A+B)*(C-D))\n"
     ]
    }
   ],
   "source": [
    "def is_operator(char):\n",
    "    return char in \"+-*/\"\n",
    "\n",
    "def prefix_to_infix(prefix_expression):\n",
    "    stack = []\n",
    "\n",
    "    # Reverse the prefix expression to process from left to right\n",
    "    reversed_expression = prefix_expression[::-1]\n",
    "\n",
    "    for char in reversed_expression:\n",
    "        if not is_operator(char):\n",
    "            stack.append(char)\n",
    "        else:\n",
    "            operand1 = stack.pop()\n",
    "            operand2 = stack.pop()\n",
    "            new_expression = f\"({operand1}{char}{operand2})\"\n",
    "            stack.append(new_expression)\n",
    "\n",
    "    return stack[0] if stack else \"\"\n",
    "\n",
    "def main():\n",
    "    prefix_expression = \"*+AB-CD\"\n",
    "    infix_expression = prefix_to_infix(prefix_expression)\n",
    "    print(\"Prefix Expression:\", prefix_expression)\n",
    "    print(\"Infix Expression:\", infix_expression)\n",
    "\n",
    "if __name__ == \"__main__\":\n",
    "    main()\n"
   ]
  },
  {
   "cell_type": "code",
   "execution_count": 3,
   "metadata": {},
   "outputs": [
    {
     "name": "stdout",
     "output_type": "stream",
     "text": [
      "All brackets are properly closed.\n"
     ]
    }
   ],
   "source": [
    "def are_brackets_closed(code):\n",
    "    stack = []\n",
    "    brackets = {\n",
    "        ')': '(',\n",
    "        '}': '{',\n",
    "        ']': '['\n",
    "    }\n",
    "\n",
    "    for char in code:\n",
    "        if char in \"({[\":\n",
    "            stack.append(char)\n",
    "        elif char in \")}]\":\n",
    "            if not stack or stack[-1] != brackets[char]:\n",
    "                return False\n",
    "            stack.pop()\n",
    "\n",
    "    return len(stack) == 0\n",
    "\n",
    "def main():\n",
    "    code_snippet = \"{[()]}\"\n",
    "    if are_brackets_closed(code_snippet):\n",
    "        print(\"All brackets are properly closed.\")\n",
    "    else:\n",
    "        print(\"Not all brackets are properly closed.\")\n",
    "\n",
    "if __name__ == \"__main__\":\n",
    "    main()\n"
   ]
  },
  {
   "cell_type": "code",
   "execution_count": 4,
   "metadata": {},
   "outputs": [
    {
     "name": "stdout",
     "output_type": "stream",
     "text": [
      "Original Stack: [1, 2, 3, 4, 5]\n",
      "Reversed Stack: [5, 4, 3, 2, 1]\n"
     ]
    }
   ],
   "source": [
    "class Stack:\n",
    "    def __init__(self):\n",
    "        self.items = []\n",
    "\n",
    "    def push(self, item):\n",
    "        self.items.append(item)\n",
    "\n",
    "    def pop(self):\n",
    "        if not self.is_empty():\n",
    "            return self.items.pop()\n",
    "        return None\n",
    "\n",
    "    def peek(self):\n",
    "        if not self.is_empty():\n",
    "            return self.items[-1]\n",
    "        return None\n",
    "\n",
    "    def is_empty(self):\n",
    "        return len(self.items) == 0\n",
    "\n",
    "    def size(self):\n",
    "        return len(self.items)\n",
    "\n",
    "def reverse_stack(stack):\n",
    "    aux_stack = Stack()\n",
    "\n",
    "    while not stack.is_empty():\n",
    "        aux_stack.push(stack.pop())\n",
    "\n",
    "    return aux_stack\n",
    "\n",
    "def main():\n",
    "    original_stack = Stack()\n",
    "    original_stack.push(1)\n",
    "    original_stack.push(2)\n",
    "    original_stack.push(3)\n",
    "    original_stack.push(4)\n",
    "    original_stack.push(5)\n",
    "\n",
    "    print(\"Original Stack:\", original_stack.items)\n",
    "\n",
    "    reversed_stack = reverse_stack(original_stack)\n",
    "\n",
    "    print(\"Reversed Stack:\", reversed_stack.items)\n",
    "\n",
    "if __name__ == \"__main__\":\n",
    "    main()\n"
   ]
  },
  {
   "cell_type": "code",
   "execution_count": 5,
   "metadata": {},
   "outputs": [
    {
     "name": "stdout",
     "output_type": "stream",
     "text": [
      "Smallest number: 1\n"
     ]
    }
   ],
   "source": [
    "class Stack:\n",
    "    def __init__(self):\n",
    "        self.items = []\n",
    "\n",
    "    def push(self, item):\n",
    "        self.items.append(item)\n",
    "\n",
    "    def pop(self):\n",
    "        if not self.is_empty():\n",
    "            return self.items.pop()\n",
    "        return None\n",
    "\n",
    "    def peek(self):\n",
    "        if not self.is_empty():\n",
    "            return self.items[-1]\n",
    "        return None\n",
    "\n",
    "    def is_empty(self):\n",
    "        return len(self.items) == 0\n",
    "\n",
    "    def size(self):\n",
    "        return len(self.items)\n",
    "\n",
    "class MinStack:\n",
    "    def __init__(self):\n",
    "        self.main_stack = Stack()\n",
    "        self.min_stack = Stack()\n",
    "\n",
    "    def push(self, item):\n",
    "        self.main_stack.push(item)\n",
    "        if self.min_stack.is_empty() or item <= self.min_stack.peek():\n",
    "            self.min_stack.push(item)\n",
    "\n",
    "    def pop(self):\n",
    "        if not self.main_stack.is_empty():\n",
    "            popped_item = self.main_stack.pop()\n",
    "            if popped_item == self.min_stack.peek():\n",
    "                self.min_stack.pop()\n",
    "            return popped_item\n",
    "        return None\n",
    "\n",
    "    def get_min(self):\n",
    "        if not self.min_stack.is_empty():\n",
    "            return self.min_stack.peek()\n",
    "        return None\n",
    "\n",
    "def main():\n",
    "    stack = MinStack()\n",
    "    stack.push(4)\n",
    "    stack.push(2)\n",
    "    stack.push(6)\n",
    "    stack.push(1)\n",
    "    stack.push(9)\n",
    "\n",
    "    print(\"Smallest number:\", stack.get_min())\n",
    "\n",
    "if __name__ == \"__main__\":\n",
    "    main()\n"
   ]
  }
 ],
 "metadata": {
  "kernelspec": {
   "display_name": "Python 3",
   "language": "python",
   "name": "python3"
  },
  "language_info": {
   "codemirror_mode": {
    "name": "ipython",
    "version": 3
   },
   "file_extension": ".py",
   "mimetype": "text/x-python",
   "name": "python",
   "nbconvert_exporter": "python",
   "pygments_lexer": "ipython3",
   "version": "3.11.4"
  },
  "orig_nbformat": 4
 },
 "nbformat": 4,
 "nbformat_minor": 2
}
